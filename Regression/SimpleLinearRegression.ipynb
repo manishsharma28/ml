{
 "cells": [
  {
   "cell_type": "code",
   "execution_count": 1,
   "metadata": {},
   "outputs": [],
   "source": [
    "import pandas as pd\n",
    "import matplotlib.pyplot as plt\n",
    "import numpy as np\n",
    "from sklearn.model_selection import train_test_split\n",
    "from sklearn.linear_model import LinearRegression"
   ]
  },
  {
   "cell_type": "code",
   "execution_count": 2,
   "metadata": {},
   "outputs": [
    {
     "data": {
      "text/html": [
       "<div>\n",
       "<style scoped>\n",
       "    .dataframe tbody tr th:only-of-type {\n",
       "        vertical-align: middle;\n",
       "    }\n",
       "\n",
       "    .dataframe tbody tr th {\n",
       "        vertical-align: top;\n",
       "    }\n",
       "\n",
       "    .dataframe thead th {\n",
       "        text-align: right;\n",
       "    }\n",
       "</style>\n",
       "<table border=\"1\" class=\"dataframe\">\n",
       "  <thead>\n",
       "    <tr style=\"text-align: right;\">\n",
       "      <th></th>\n",
       "      <th>Years_Experience</th>\n",
       "      <th>Salary</th>\n",
       "    </tr>\n",
       "  </thead>\n",
       "  <tbody>\n",
       "    <tr>\n",
       "      <td>0</td>\n",
       "      <td>1.1</td>\n",
       "      <td>39343</td>\n",
       "    </tr>\n",
       "    <tr>\n",
       "      <td>1</td>\n",
       "      <td>1.3</td>\n",
       "      <td>46205</td>\n",
       "    </tr>\n",
       "    <tr>\n",
       "      <td>2</td>\n",
       "      <td>1.5</td>\n",
       "      <td>37731</td>\n",
       "    </tr>\n",
       "    <tr>\n",
       "      <td>3</td>\n",
       "      <td>2.0</td>\n",
       "      <td>43525</td>\n",
       "    </tr>\n",
       "    <tr>\n",
       "      <td>4</td>\n",
       "      <td>2.2</td>\n",
       "      <td>39891</td>\n",
       "    </tr>\n",
       "  </tbody>\n",
       "</table>\n",
       "</div>"
      ],
      "text/plain": [
       "   Years_Experience  Salary\n",
       "0               1.1   39343\n",
       "1               1.3   46205\n",
       "2               1.5   37731\n",
       "3               2.0   43525\n",
       "4               2.2   39891"
      ]
     },
     "execution_count": 2,
     "metadata": {},
     "output_type": "execute_result"
    }
   ],
   "source": [
    "data=pd.read_csv(r\"C:\\Users\\ms\\ml_dl\\.data\\salary vs experience data.csv\")\n",
    "data.head()"
   ]
  },
  {
   "cell_type": "code",
   "execution_count": 3,
   "metadata": {},
   "outputs": [
    {
     "data": {
      "text/plain": [
       "(array([ 1.1,  1.3,  1.5,  2. ,  2.2,  2.9,  3. ,  3.2,  3.2,  3.7,  3.9,\n",
       "         4. ,  4. ,  4.1,  4.5,  4.9,  5.1,  5.3,  5.9,  6. ,  6.8,  7.1,\n",
       "         7.9,  8.2,  8.7,  9. ,  9.5,  9.6, 10.3, 10.5]),\n",
       " array([ 39343,  46205,  37731,  43525,  39891,  56642,  60150,  54445,\n",
       "         64445,  57189,  63218,  55794,  56957,  57081,  61111,  67938,\n",
       "         66029,  83088,  81363,  93940,  91738,  98273, 101302, 113812,\n",
       "        109431, 105582, 116969, 112635, 122391, 121872], dtype=int64))"
      ]
     },
     "execution_count": 3,
     "metadata": {},
     "output_type": "execute_result"
    }
   ],
   "source": [
    "real_x=data.iloc[:,0].values\n",
    "real_y=data.iloc[:,1].values\n",
    
   ]
  },
  {
   "cell_type": "code",
   "execution_count": 4,
   "metadata": {},
   "outputs": [
    {
     "data": {
      "text/plain": [
       "array([[ 39343],\n",
       "       [ 46205],\n",
       "       [ 37731],\n",
       "       [ 43525],\n",
       "       [ 39891],\n",
       "       [ 56642],\n",
       "       [ 60150],\n",
       "       [ 54445],\n",
       "       [ 64445],\n",
       "       [ 57189],\n",
       "       [ 63218],\n",
       "       [ 55794],\n",
       "       [ 56957],\n",
       "       [ 57081],\n",
       "       [ 61111],\n",
       "       [ 67938],\n",
       "       [ 66029],\n",
       "       [ 83088],\n",
       "       [ 81363],\n",
       "       [ 93940],\n",
       "       [ 91738],\n",
       "       [ 98273],\n",
       "       [101302],\n",
       "       [113812],\n",
       "       [109431],\n",
       "       [105582],\n",
       "       [116969],\n",
       "       [112635],\n",
       "       [122391],\n",
       "       [121872]], dtype=int64)"
      ]
     },
     "execution_count": 4,
     "metadata": {},
     "output_type": "execute_result"
    }
   ],
   "source": [
    "#converting real_x and real_y into 2D arrays\n",
    "real_x=real_x.reshape(-1,1)\n",
    "real_y=real_y.reshape(-1,1)\n",
    "real_y"
   ]
  },
  {
   "cell_type": "code",
   "execution_count": 5,
   "metadata": {},
   "outputs": [],
   "source": [
    "train_x, test_x, train_y, test_y=train_test_split(real_x, real_y, test_size=0.3, random_state=0)"
   ]
  },
  {
   "cell_type": "code",
   "execution_count": 6,
   "metadata": {},
   "outputs": [
    {
     "data": {
      "text/plain": [
       "LinearRegression(copy_X=True, fit_intercept=True, n_jobs=None, normalize=False)"
      ]
     },
     "execution_count": 6,
     "metadata": {},
     "output_type": "execute_result"
    }
   ],
   "source": [
    "lin=LinearRegression()\n",
    "lin.fit(train_x,train_y)"
   ]
  },
  {
   "cell_type": "code",
   "execution_count": 7,
   "metadata": {},
   "outputs": [
    {
     "data": {
      "text/plain": [
       "array([[100723.45550213],\n",
       "       [ 53922.14907116],\n",
       "       [ 74514.72390079],\n",
       "       [ 56730.22745702],\n",
       "       [ 68898.56712907],\n",
       "       [103531.53388799],\n",
       "       [ 90427.16808731],\n",
       "       [ 38945.73101325],\n",
       "       [125060.13484623],\n",
       "       [ 54858.17519978],\n",
       "       [ 47369.96617082],\n",
       "       [ 82002.93292974],\n",
       "       [ 82938.95905836],\n",
       "       [ 61410.35810011],\n",
       "       [ 56730.22745702],\n",
       "       [111019.74291694],\n",
       "       [ 45497.91391358],\n",
       "       [ 37073.67875601],\n",
       "       [ 93235.24647317],\n",
       "       [ 72642.67164355],\n",
       "       [ 64218.43648597]])"
      ]
     },
     "execution_count": 7,
     "metadata": {},
     "output_type": "execute_result"
    }
   ],
   "source": [
    "pred_y=lin.predict(train_x)\n",
    "pred_y"
   ]
  },
  {
   "cell_type": "code",
   "execution_count": 11,
   "metadata": {},
   "outputs": [
    {
     "data": {
      "image/png": "iVBORw0KGgoAAAANSUhEUgAAAZcAAAEWCAYAAACqitpwAAAABHNCSVQICAgIfAhkiAAAAAlwSFlzAAALEgAACxIB0t1+/AAAADh0RVh0U29mdHdhcmUAbWF0cGxvdGxpYiB2ZXJzaW9uMy4xLjEsIGh0dHA6Ly9tYXRwbG90bGliLm9yZy8QZhcZAAAgAElEQVR4nO3deZhcVbnv8e8vI4QhAQIKCUmDRAEBrxAZFZWogIpwPahoVPAC8Sh6RI8DGDwEMF4QPASvisaABGgJiCKDyGCYDkrQAEpkkIQhIRBIyNAMYcjw3j/26nRVdfWYqtrVXb/P8/ST2qvW3ntVpbveetdae21FBGZmZpU0IO8GmJlZ/+PgYmZmFefgYmZmFefgYmZmFefgYmZmFefgYmZmFefgYhUl6SlJH8i7HX2NpJC0SwWP90VJ0yp1vJJjv0/SQ5Wuu7EkfV/SJVU69sclXV6NY/dXDi7WjqR3S/qLpBZJKyT9WdK78m6XgaTjJN3dRZ0hwGnAuZLeI+nl9PNKCmIvF/yM6WkbIuKOiHh7pevWkqTLJU3pwS7XAPtIqrvXUq8cXKyIpC2BG4D/B2wNjALOAF6v8nkHVfP4DeZI4NGIeCYi/iciNo+IzYHWD8YRrWURsahwR0kDJPlzoURkV5vPAk7Muy19hX+JrNRbASLiiohYFxGvRsQtEfEggKS3SLpN0nJJL0hqljSi3IEk7SvpHkmrJC2R9JP0rbr1+ZB0kqT5wHxJP5X0o5JjXC/p5DLH/rmk80rKrpX0jfT4O5KekfSSpH9JmtBBG4dKOk/SIknPp+NuWnCMOa2BT9KXJD0kaRNJTan9kyQ9m17ff3b0pkq6JB371tSmOyWN7aDucEmXSlomaaGk09KH/m7Az4EDUtaxqoPTHQ7c2VFbypzvbklnSboHeAUYI+kESY+ktj4u6YSC+h+Q9FTB9mJJ35A0L2W7V0ga2tO66flTJT2X/u9OTO9xUwft3lnS/6Q23gxsU/DcAElXp2OtknRHev+Q9GXgU8B30/t4TSo/TdIT6XgPSfpYySnvAD7S3fe14UWEf/yz4QfYElgOzCT7kNqq5PldgA8CQ4FtgbuAaQXPPwV8ID3eB9gfGAQ0AY8AJxfUDeBWsgxpU2Bf4FlgQHp+JLAaeFOZdh4MPA0obW8FvArsALwtPbdDeq4JeEsHr3cacF1qwxbA9cD/Tc8NSK9vCjAOWAm8s+CYAVwBbAbsCSxrfe1lznMJ8FJq91DgAuDukvdil/T4UuDa1J4m4DHg+PTccYX7dXCuvwGfKFPe2uZBJeV3p/+33YDB6f/rCGBnQMAh6b3dK9X/APBUwf6LgTnAm8k+4B8DTuhF3Y+m///d0nt6RWpvUwev86/Auen9fD/wMnBJwf/dcek93AT4CTC3YN/LgSklx/sksH3a9zPpeG8qeH671J5hef+d9oWf3Bvgn/r7SX/cl6QPgrVkH77tPuBT3aOABwq2n+rkA/Zk4JqC7QAOKanzCPDB9PgrwI0dHEvAIuDgtH0icFt6vAuwNH2wDe7kdYrsm/pbCsoOAJ4s2G4CVqR2nVpSHsCuBWU/BC7q4FyXALMKtjcH1gE7FrwXuwADybogdy+o+0XgjvT4OLoOLvOBw8qUt7a5XHD5ry6OeQNwUnpcLmAcU7D938BPelH3UuCsgud2pYPgQhb43ij8oAeuIgWXMvVHpmNtlrbbBZcy+/wT+EjB9qbpGDtU62+vP/24W8zaiYhHIuK4iBgN7EGWDUwDkLSdpFmp2+JFsj/SkeWOI+mtkm5IXRMvAj8oU/fpku2ZwGfT488Cl3XQxtY+8E+nos8Azem5BWSBbAqwNLV3hzKH2RYYBtyXuk5WATel8tbzPAXcTvbB/NMyxyhs/0Ky96ojG+pGxMtkQau0/khgSDpW4XFHdXLcUivJvrH3RNH/g6SPSrpX2YSOVcCH6OD/OXmu4PFqsuDZ07o7lLSj9Hej0A7A8ohYXVC24T2TNFDSD1M314vAgvRUh69B2WSJfxT8LuxaUr/1Pe2oO9IKOLhYpyLiUbJv3Xukov9L9u1tr4jYkiwAqIPdLwQeBcalut8tU7d0We7LgSMlvYMsg/p9J827Ajg6jV3sB/y2oN2/joh3A2PTOc4ps/8LZN09b4+IEelneGSD3wBI+jBZNjObrAum1I4Fj8eQdet0ZENdSZuTdcWV1n8BWJPaXXjcZ1pfWifHb/UgaeysBzYcN405XU32f/2miBgB3ELH/8+VsgQYXbC9Y0cVU91tWsfHksKZb58HPkzWpTecLCuEttdQ9D5K2pns9/VLwDbpNT9K8WveDVhQEtCsAw4uVkTSrpL+U9LotL0jWXYwJ1XZgqwvepWkUcC3OjncFsCLwMuSdiX7w+1URCwmGzO4DPhtRLzaSd0HyMY5ZgA3R8Sq1Oa3STokDRS/RhZA1pXZfz3wS+B8SdulfUdJOjQ9HglcBJwAHAsckYJNoe9JGqZsiuoXgCs7eXkfVjbNewhwFnBvRBR9O4+IdWTdO1MlbZEC5zfIgi7A88BoFUyMKONG4L2dPN+VoWTZ0zJgnaSPAmUnRFTYVcDx6f9vGPC9jipGxONkQXSKpCGSDqZ4sH0Lsu7F5WTZ6dSSQzxP1rXWanOygLMMUJrAsGvJPu8F/tjjV9WgHFys1EtkWcC9kl4hCyr/BFpnQp0B7A20AH8AftfJsb5J1l31EtmHeGcfvIVmkg2Ql+0SK3EFWb/+rwvKhgJnk2UBz5ENxH63g/2/Q9ZlMid1n/yJbEIAwHTg2oi4MSKWA8cDMyRtU7D/nWn/2cB5EXFLJ239NXA6WXfYPsDEDup9lWws6Amy8ZBfAxen524DHgKek/RCB/tfD+zaQVdgl1KQ/jrZtR0rgKPJxlyqKiKuJ8se7iIbN/pzeqqjafDHAAelNk6m+PflV2RZ4bNk79dfSvadAbxD0kpJV0c2G/LHZJMElpAFlntbK0tSOt/03r6+RtM608asbqRvoZeTDeSuz7s95aTpsU+STRhY2436lwCLI+K06rZsw/kmkU0KaDeNu6+QtCdwPzA0798DSf+bbAbeZ/JsR1/iC9esrkgaDHwNmJH3B0pfFhF98ht2+hD/A1m31tlkmWPuvwcRcQ1ZJmfd5G4xqxvpIrdVZNcaVGVdLKt7J5F1Z84nGy87Kd/mWG+5W8zMzCrOmYuZmVWcx1ySkSNHRlNTU97NMDPrU+67774XImLb0nIHl6SpqYm5c+fm3Qwzsz5F0sJy5e4WMzOzinNwMTOzinNwMTOzinNwMTOzinNwMTOzinNwMTOzinNwMTOzinNwMTNrUJddBpMmVefYvojSzKzBrFoFW23Vtj29CmtoO3MxM2sgP/xhcWB5/PHqnMeZi5lZA3juOdh++7btb34Tzj23eudzcDEz6+e+9S0477y27SVL4M1vru453S1mZtZPPfEESG2B5eyzISILLM3zmmma1sSAMwbQNK2J5nnNFT23Mxczs37oc5+Dyy9v2165EkaMyB43z2tm0vWTWL1mNQALWxYy6fps2tjEPSdW5PzOXMzM+pF//CPLVloDy4wZWbbSGlgAJs+evCGwtFq9ZjWTZ0+uWDucuZiZ9QMR8KEPwZ/+lG1vvjksXQqbbtq+7qKWRWWP0VF5b1Qtc5F0saSlkv5ZUHaupEclPSjpGkkjCp47VdICSf+SdGhB+WGpbIGkUwrKd5J0r6T5kq6UNCSVD03bC9LzTdV6jWZm9eDuu2HAgLbAcs018NJL5QMLwJjhY3pU3hvV7Ba7BDispOxWYI+I2At4DDgVQNLuwDHA29M+P5M0UNJA4KfA4cDuwKdTXYBzgPMjYhywEjg+lR8PrIyIXYDzUz0zs35n7VrYYw94z3uy7XHj4I034KijOt9v6oSpDBs8rKhs2OBhTJ0wtWJtq1pwiYi7gBUlZbdExNq0OQcYnR4fCcyKiNcj4klgAbBv+lkQEU9ExBvALOBISQIOAa5O+88Ejio41sz0+GpgQqpvZtZv/OEPMHgwPPRQtn377fDYY1lZVybuOZHpR0xn7PCxCDF2+FimHzG9YoP5kO+Yy/8BrkyPR5EFm1aLUxnA0yXl+wHbAKsKAlVh/VGt+0TEWkktqf4LlX4BZma19tprMHo0LF+ebb/nPXDHHVm3WE9M3HNiRYNJqVxmi0maDKwFWidWl8ssohflnR2rXDsmSZorae6yZcs6b7SZWc4uuywbR2kNLPfdB3fd1fPAUgs1z1wkHQt8FJgQEa0f+ouBHQuqjQaeTY/Llb8AjJA0KGUvhfVbj7VY0iBgOCXdc60iYjowHWD8+PFlA5CZWd5efBGGD2/b/uQnYdasbMpxvappvJN0GPAd4GMRUTjJ+jrgmDTTaydgHPBX4G/AuDQzbAjZoP91KSjdDhyd9j8WuLbgWMemx0cDtxUEMTOzPmXatOLA8thjcOWV9R1YoIqZi6QrgPcBIyUtBk4nmx02FLg1jbHPiYh/j4iHJF0FPEzWXXZSRKxLx/kKcDMwELg4ItLwFd8BZkn6PvAAcFEqvwi4TNICsozlmGq9RjOzalm2DLbbrm37q1+FH/84v/b0lPylPjN+/PiYO3du3s0wM2PyZPjBD9q2Fy+GUaM6rp8nSfdFxPjS8jocBjIza0wLF2bdXa2B5ayzsivv6zWwdMbLv5iZ1YETToCLLmrbXr4ctt46v/ZsLGcuZmY5evjhLFtpDSwXXphlK305sIAzFzOzXETAxz4GN9yQbQ8enC2Lv9lm+barUpy5mJnV2Jw52YWPrYHlyiuzNcH6S2ABZy5mZjWzbh3st192ZT3AmDEwfz4MGZJvu6rBmYuZ9SvVvn1vb918Mwwa1BZYbrklmx3WHwMLOHMxs36kFrfv7ak33oCddoJn0wJV++4L99xTn+uBVVI/f3lm1khqcfvenrjyShg6tC2w3Htv9tPfAws4czGzfqQWt+/tjpdfztYDW78+2z7yyOzukPW+HlglNUD8NLNGUYvb93blZz+DLbZoCywPPwy//31jBRZwcDGzfqQWt+/tyPLlWQA56aRse9Kk7FqW3Xar+qnrkoOLmfUbtbh9bzlnngkjR7ZtL1wIv/hFVU9Z97wqcuJVkc2spxYvhh0Lbmd42mnZYpONpKNVkT2gb2bWC6VjKMuWFWcvjc7dYmZmPXDDDcWB5d//PRtbcWAp5szFzKwbItpfn/Lss7D99vm0p945czEz68Ivf1kcWD784SzYOLB0zJmLmVkH1q3L1gMr1NICW26ZT3v6EmcuZmZlfO97xYHlK1/JshUHlu5x5mJmVuDVV2FY8XWYvP56/129uFqcuZiZJZ/7XHFgOffcLFtxYOk5Zy5m1vCWL28/lXj9+sZbD6ySnLmYWUM74IDiwPLrX2fZigPLxnFwMbOG9NRTWQCZM6etLAI+/enu7V+vd7ysFw4uZtZwttoquztkq9tuywJLd7Xe8XJhy0KC2HDHSweYNg4uZtYwHnggy1ZWrWori4D3v79nx6m3O17WIw/om1lDKB1D+cc/YK+9enesernjZT1z5mJm/dottxQHlu23z7KV3gYWqI87XtY7Bxcz67ckOPTQtu1Fi7LFJjdWnne87CscXMys37noouJs5b3vzbKVwht7bYy87njZl/hOlInvRGnW95VbaHLFimx2mFVHR3eidOZiZv3C4YcXB5Y99siyFQeWfHi2mJn1aatXw2abFZe9/HL7MqstZy5m1ieUuyJ+1KjiIPLBD2bZigNL/py5mFnda70ivvXCxYXPvMpn9yoePF+7FgYOzKN1Vk7VMhdJF0taKumfBWVbS7pV0vz071apXJJ+LGmBpAcl7V2wz7Gp/nxJxxaU7yNpXtrnx1I2N6Sjc5hZ31V0RfyUgPOe3/Dc176WZSsOLPWlmt1ilwCHlZSdAsyOiHHA7LQNcDgwLv1MAi6ELFAApwP7AfsCpxcEiwtT3db9DuviHGbWRy1qWQRL3pEFlgKaMoBp03JqlHWqasElIu4CVpQUHwnMTI9nAkcVlF8amTnACEnbA4cCt0bEiohYCdwKHJae2zIi7olsLvWlJccqdw4z66Niynr4xd/bCiacClPkK+LrWK3HXN4UEUsAImKJpO1S+Sjg6YJ6i1NZZ+WLy5R3dg4z62NuuAGOOKKkcEp2daSviK9v9TJbrNxteaIX5T07qTRJ0lxJc5ctW9bT3c2M6t3XRCoOLF8++27Gnt/kK+L7iFpnLs9L2j5lFNsDS1P5YqBwYYbRwLOp/H0l5Xek8tFl6nd2jnYiYjowHbIr9Hv7oswaVbtZXOm+JkCvP/gvuABOPrm4LFtI5N38lKd631irqVpnLtcBrTO+jgWuLSj/fJo1tj/Qkrq2bgY+JGmrNJD/IeDm9NxLkvZPs8Q+X3Kscucwswqr9H1NpOLA8uc/9+wmXlY/qjkV+QrgHuBtkhZLOh44G/igpPnAB9M2wI3AE8AC4JfAlwEiYgVwFvC39HNmKgP4EjAj7fM48MdU3tE5zKzCKnVfky9/uf39ViLgwAN72zLLW9W6xSKioztRTyhTN4CTOjjOxcDFZcrnAnuUKV9e7hxmVnljho9hYcvCsuXdsX59++tTHn8cdt65Eq2zPNXLgL6Z9UEbc1+Tgw5qH1giHFj6Cy//Yma91jpoP3n2ZBa1LGLM8DFMnTC108H8V1+FYcXxyMvi90O+n0vi+7mYVd+QIbBmTdv2dtvB8893XN/qn+/nYma5Wbo0G7AvDCyvv+7A0p85uJhZVUnwpje1bR9+eDa2MmRIfm2y6nNwMeuDqnVVfCU98kj76cXr18ONN+bTHqstBxezPqb1qviFLQsJYsNV8fUUYCTYffe27W9/O8tWSoON9V8OLmZ9TKWviq+kP/2p/MWQ55yTT3ssPw4uZn1Mpa6KrzQpu81wqxkzvHRLI3NwMetjOrr6Pa97m0yZUj5bOf74XJpjdcLBxayP2Zir4nuqq4kDEpxxRtv2n/7kbMUyvkLfrI/pzVXxvdHZcvpXnTaR664rru+gYoV8hX7iK/TNijVNa2q/KGUAZxR/Zvz1r/Cud9WuXVZfOrpC35mLmZXVboLAD5fC6m2Livzd1DriMRczK2vDBIG1Q2BKFAWWp592YLHOObiYWVlTJ0zNgsr3Xy8qv/zBZkaP7mAns8TBxczaWboUPrtX8QSBHc/ejcsfbK74xAHrnzzmYmZFSq9ZGTAA1q0DeCSP5lgf5czFzACYN699YFm3rjWwmPWMg4uZIcFee7VtH3xwNmA/wJ8Q1kv+1TFrYDfcUH7pljvvzKc91n84uJg1KAmOOKJt+xvf8PRiqxwHF7MG86Mflc9WfvSjfNpj/ZNni5k1kNKgcvHF8IUv5NMW69+6FVwkDYwIzxkx66M+/3m47LLiMneBWTV1t1tsgaRzJe3edVUzqydScWC5804HFqu+7gaXvYDHgBmS5kiaJGnLKrbLzDbSW99afmzl4IPzaY81lm4Fl4h4KSJ+GREHAt8GTgeWSJopaZeqttDMemTNmiyozJ/fVvb4485WrLa6PeYCfAT4AtAE/AhoBt4D3Ai8tUrtM7MeKM1UwEHF8tHd2WLzgduBcyPiLwXlV0tykm2Ws5UrYeuti8tWrYLhw/Npj1mXwSVlLZdExJnlno+I/6h4q8ys25ytWD3qcswlTUF+fw3aYmY98Nhj7QPLmjUOLFYfutst9hdJPwGuBF5pLYyI+6vSKjPrVGlQ2Wsv+Mc/8mmLWTndDS4Hpn8Lu8YCOKSyzTGzjjTPa+br0+5k2cXTi8qdqVg96lZwiQh3i5nlqHlec7ozZNtdIAfsfCeX/n5xUZlZvej22mKSPgK8HdiktayjQX4zq5wzz4TTTy8JIFPEemDy7LG+7bDVpW5dRCnp58CngK8CAj4BjO3tSSV9XdJDkv4p6QpJm0jaSdK9kuZLulLSkFR3aNpekJ5vKjjOqan8X5IOLSg/LJUtkHRKb9tpljcJTj+9oOA9U2FK24DLopZFtW+UWTd0d/mXAyPi88DKiDgDOADYsTcnlDQK+A9gfETsAQwEjgHOAc6PiHHASuD4tMvx6by7AOeneqR1zo4hy6YOA34maWCaOv1T4HBgd+DTXhPN+pqPfrTMFOMpggmnFRWNGT6mdo0y64HuBpdX07+rJe0ArAF22ojzDgI2lTQIGAYsIZsccHV6fiZwVHp8ZNomPT9BklL5rIh4PSKeBBYA+6afBRHxRES8AcxKdc36BAn+8Ie27Vmz4PIHmxk2eFhRvWGDhzF1wtQat86se7o75nKDpBHAucD9ZDPFZvTmhBHxjKTzgEVkQesW4D5gVUSsTdUWA6PS41HA02nftZJagG1S+ZyCQxfu83RJ+X7l2iJpEjAJYMwYfwO0fG2+ObzySnFZ20ywbFxl8uzJLGpZxJjhY5g6YarHW6xudXe22Fnp4W8l3QBsEhEtvTmhpK3IMomdgFXAb8i6sNqdtnWXDp7rqLxcNlZ2smZETAemA4wfP94TOi0X69bBoJK/xLlzYZ99issm7jnRwcT6jE6Di6SPd/IcEfG7XpzzA8CTEbEsHed3ZNfRjJA0KGUvo4FnU/3FZOM7i1M32nBgRUF5q8J9Oio3qyteusX6q64ylyM6eS6A3gSXRcD+koaRdYtNAOaSLYx5NNkYybHAtan+dWn7nvT8bRERkq4Dfi3pv4EdgHHAX8kymnGSdgKeIRv0/0wv2mlWNS0tMGJEcdmSJfDmN+fTHrNK6zS4RETF764dEfdKupps7GYt8ABZ19QfgFmSvp/KLkq7XARcJmkBWcZyTDrOQ5KuAh5Oxzmp9VbMkr4C3Ew2E+3iiHio0q/DrLecrVgjUHTzt7q/X0Q5fvz4mDt3bt7NsH5s/vzs7pCFXnsNhg7Npz1mlSDpvogYX1re3ZuF/ZxsyvD7yWaJHU3WBWVm3eBsxRpNzS+iNGskt97aPrCsX+/AYv1fd69zKb2IcgUbdxGlWb9XGlTe8Q74+9/zaYtZrXU3c2m9iPKHZBc8Pkk2q8vMSlxwQfvAEuHAYo2lq+tc3gU83XoRpaTNgXnAo2TrfJlZgdKg8uUvw09/mk9bzPLUVebyC+ANAEkHA2enshbSle1mBp/9bPlsxYHFGlVXYy4DI2JFevwpYHpE/JZsGRgn+Wa0Dyq//CWccEI+bTGrF10Gl4IlWSaQFnns5r5m/ZqnF5t1rKtusSuAOyVdSzZj7H8AJO1C1jVm1nDWr28fWG66yYHFrFBXy79MlTQb2B64Jdou5x9AdldKs4bibMWse7rs2oqIOWXKHqtOc8zq08svwxZbFJfNnw+77JJPe8zqncdNzLrgbMWs57p7EaVZw3n88faB5cUXHVjMusOZi1kZzlbMNo4zF7MC5RaaXLfOgcWsp5y5mCXOVswqx5mLNbzzziu/dIsDi1nvOXOxhlYaVA46CO6+O5+2mPUnzlysIf3bv5XPVhxYzCrDwcUajgS/+13b9qmndt0F1jyvmaZpTQw4YwBN05pontdc3Uaa9XHuFrOGscUW2ZX2hbozrtI8r5lJ109i9ZrVACxsWcik67M1XCfuObHSzTTrF5y5WL8XkWUrhYHlN7/p/oD95NmTNwSWVqvXrGby7MkVbKVZ/+LMxfq1SkwvXtSyqEflZubMxfqp115rH1gefLB304vHDB/TabnHY8zac3CxfkeCTTctLouAPffs3fGmTpjKsMHDisqGDR7G1AlTN4zHLGxZSBAbxmMcYKzRObhYv7F4cfts5YUXNv5iyIl7TmT6EdMZO3wsQowdPpbpR0xn4p4TPR5j1gGPuVjFNM9rZvLsySxqWcSY4WOYOmFqzWZTVXvplol7Tiz7WjweY1aeMxeriLy6h/785/aBZc2a2i3d0tV4jFmjcnCxisije0iCd7+7uCwCBtUwH+9sPMaskTm4WEXUsnvo0kvrZ6HJzsZjzBqZx1ysIsYMH8PCloVlyyupNKi87W3w6KMVPUWPdTQeY9bInLlYRVS7e+jkk8tnK3kHFjMrz8HFKqKa3UMSXHBB2/Y3v+l7rZjVO4X/SgEYP358zJ07N+9mWIF99oH77y8u86+rWX2RdF9EjC8td+ZidUkqDizNzZULLF6uxaz6PKBvdaXaF0N6+Xyz2sglc5E0QtLVkh6V9IikAyRtLelWSfPTv1ulupL0Y0kLJD0oae+C4xyb6s+XdGxB+T6S5qV9fiyV+8iy3qrGN/+1a9sHlrlzK98N5uVazGojr26xC4CbImJX4B3AI8ApwOyIGAfMTtsAhwPj0s8k4EIASVsDpwP7AfsCp7cGpFRnUsF+h9XgNTWEalyJL8HgwcVlEdmYS6V5uRaz2qh5cJG0JXAwcBFARLwREauAI4GZqdpM4Kj0+Ejg0sjMAUZI2h44FLg1IlZExErgVuCw9NyWEXFPZLMVLi04lm2kSn7zX768fbayZEl1B+29XItZbeSRuewMLAN+JekBSTMkbQa8KSKWAKR/t0v1RwFPF+y/OJV1Vr64THk7kiZJmitp7rJlyzb+lTWASn3zl2DkyOKyCHjzm3vbsu7xci1mtZFHcBkE7A1cGBHvBF6hrQusnHLjJdGL8vaFEdMjYnxEjN922207b7UBG//Nf9689tnKa6/Vboqxl2sxq408ZostBhZHxL1p+2qy4PK8pO0jYknq2lpaUH/Hgv1HA8+m8veVlN+RykeXqW8VMHXC1KLZVtD9b/7VngnWXV6uxaz6ap65RMRzwNOS3paKJgAPA9cBrTO+jgWuTY+vAz6fZo3tD7SkbrObgQ9J2ioN5H8IuDk995Kk/dMssc8XHMs2Um+++V9zTfvAsn69L4g068/yus7lq0CzpCHAE8AXyALdVZKOBxYBn0h1bwQ+DCwAVqe6RMQKSWcBf0v1zoyIFenxl4BLgE2BP6Yfq5CefPMvDSq77ALz55ev292bjeV5UzIz6x4v/5J4+ZfO9fQD/fTT4cwzi8s6+1UrvbgRsu620qyou/XMrDY6Wv7FwSVxcOlYTz/QS7OV44+HGTM6P0fTtKayS/aPHT6Wp05+qsf1zKw2vLaY9Vp3r20566zyy+J3FVig+1OcfRGkWd/g4GJd6s4HugT/9V9tz/38537YJVUAAApPSURBVD0bsO/uFGdfBGnWNzi4WJc6+0D/5CfLZytf/GLPztHdixt9EaRZ3+DgYl0q94G+6cDNWPj1p/jNb9rKzvn99Yw9v3cLWnZ3irMvgjTrGzygn3hAv3OFs8UG/vgp1q4ozmYuf9CzuMwakWeLdcHBpWuvvgrDihMYli3L1gjzLC6zxuTZYrZRdt+9fWCJaFt80rO4zKyQg4t1asWKbMD+kUfaysotNOlZXGZWyMHFOiTBNtu0bR93XBZUhg5tX9ezuMysUF5ri1kde+IJeMtbisvWry+/qnGr1kF7r/llZuAB/Q08oJ8pDSA/+AGcemo+bTGz+tfRgL4zFwNgzhw44IDiMn/vMLPe8piLIRUHllmzHFjMbOM4c2lgv/0tHH10cZmDiplVgoNLgyodW7n7bjjooHzaYmb9j7vFGsy555ZfaNKBxcwqyZlLg4iAASVfJR57DMaNy6c9Zta/OXNpACee2D6wRDiwmFn1OHPpx9asgSFDistaF5o0M6smZy791IEHFgeWceOKF5o0M6smZy79zIsvwvDhxWWvvgqbbJJPe8ysMTlzqZLmec00TevdXRl7a+LE4sDy8Y9n2YoDi5nVmjOXKmieV3xXxoUtC5l0/SSAqizk+MILsO22xWXr1rUfxDczqxV//FTB5NmTi273C7B6zWomz55c8XPtt19xYLniivLTjs3MasmZSxXU4q6MTz4JO+9cXOalW8ysXvj7bRVU+66Mw4cXB5bbbnNgMbP64uBSBdW6K+P992dLt7z4YltZBLz//Rt1WDOzinNwqYKJe05k+hHTGTt8LEKMHT6W6UdM36jBfAn22adte/tvHYqm1G4mmplZT/hOlEm93ony5pvhsMPatrfabjWvf23bogkDwwYP2+jgZWbWGx3didKZSx2TigPLokWw5am712wmmplZbzm41KGZM4uXxX/f+7KxlR13rM1MNDOzjeWpyHVk/XoYOLC4bOVKGDGibXvM8DEsbFnYbt9KzUQzM6sEZy51YurU4sBywglZtlIYWKB6M9HMzCrJmUvOXnsNNt20uKyzhSZbB+0nz57MopZFjBk+hqkTpnow38zqimeLJXnMFjvxRJgxo237+9+HyR6XN7M+pO5mi0kaKOkBSTek7Z0k3StpvqQrJQ1J5UPT9oL0fFPBMU5N5f+SdGhB+WGpbIGkU2r92rqyalU2YF8YWNatc2Axs/4jzzGXrwGPFGyfA5wfEeOAlcDxqfx4YGVE7AKcn+ohaXfgGODtwGHAz1LAGgj8FDgc2B34dKpbFw45BLbaqm37V7+q3EKTeSzzb2ZWTi7BRdJo4CPAjLQt4BDg6lRlJnBUenxk2iY9PyHVPxKYFRGvR8STwAJg3/SzICKeiIg3gFmpbsX15MP86aezbOX229vKIuC44yrXlknXT2Jhy0KC2LDMvwOMmeUhr8xlGvBtYH3a3gZYFRFr0/ZiYFR6PAp4GiA935Lqbygv2aej8nYkTZI0V9LcZcuW9egF9OTDfNQoGFMwU/immyq/0GQtl/k3M+tKzYOLpI8CSyPivsLiMlWji+d6Wt6+MGJ6RIyPiPHblt5tqwvd+TCfNy/LVp59tvCccOihVJwvrjSzepJH5nIQ8DFJT5F1WR1ClsmMkNQ6NXo00PqRvBjYESA9PxxYUVhesk9H5RXV1Yf5KafAXnu1ld93X3WXxa/2Mv9mZj1R8+ASEadGxOiIaCIbkL8tIiYCtwNHp2rHAtemx9elbdLzt0U2f/o64Jg0m2wnYBzwV+BvwLg0+2xIOsd1lX4dHX1o77DuQCQ455xse8cds6Cy996VbkExX1xpZvWknq7Q/w7wDUkLyMZULkrlFwHbpPJvAKcARMRDwFXAw8BNwEkRsS6Ny3wFuJlsNtpVqW5FlfswH3jdpTxz1t0btlesyBabrIVqLPNvZtZbvogy6c1FlM3zmpk8ezILH9sSLnxwQ/n06dkFkmZm/V1HF1F6+ZeNMHHPiRwyciI77JBtb7IJLF8Ow4Z1vp+ZWX9XT91ifdJmm2X3XLn66mxNMAcWMzNnLhttyy3hj3/MuxVmZvXFmYuZmVWcg4uZmVWcg4uZmVWcg4uZmVWcg4uZmVWcg4uZmVWcg4uZmVWcg4uZmVWc1xZLJC0DFubdjh4aCbyQdyNy1OivH/weNPrrh/zfg7ER0e6GWA4ufZikueUWjGsUjf76we9Bo79+qN/3wN1iZmZWcQ4uZmZWcQ4ufdv0vBuQs0Z//eD3oNFfP9Tpe+AxFzMzqzhnLmZmVnEOLmZmVnEOLn2MpB0l3S7pEUkPSfpa3m3Kg6SBkh6QdEPebcmDpBGSrpb0aPpdOCDvNtWapK+nv4F/SrpC0iZ5t6naJF0saamkfxaUbS3pVknz079b5dnGVg4ufc9a4D8jYjdgf+AkSbvn3KY8fA14JO9G5OgC4KaI2BV4Bw32XkgaBfwHMD4i9gAGAsfk26qauAQ4rKTsFGB2RIwDZqft3Dm49DERsSQi7k+PXyL7UBmVb6tqS9Jo4CPAjLzbkgdJWwIHAxcBRMQbEbEq31blYhCwqaRBwDDg2ZzbU3URcRewoqT4SGBmejwTOKqmjeqAg0sfJqkJeCdwb74tqblpwLeB9Xk3JCc7A8uAX6WuwRmSNsu7UbUUEc8A5wGLgCVAS0Tckm+rcvOmiFgC2ZdPYLuc2wM4uPRZkjYHfgucHBEv5t2eWpH0UWBpRNyXd1tyNAjYG7gwIt4JvEKddIXUShpXOBLYCdgB2EzSZ/NtlRVycOmDJA0mCyzNEfG7vNtTYwcBH5P0FDALOETS5fk2qeYWA4sjojVjvZos2DSSDwBPRsSyiFgD/A44MOc25eV5SdsDpH+X5twewMGlz5Eksr72RyLiv/NuT61FxKkRMToimsgGcG+LiIb6xhoRzwFPS3pbKpoAPJxjk/KwCNhf0rD0NzGBBpvUUOA64Nj0+Fjg2hzbssGgvBtgPXYQ8DlgnqS/p7LvRsSNObbJau+rQLOkIcATwBdybk9NRcS9kq4G7iebQfkAdboMSiVJugJ4HzBS0mLgdOBs4CpJx5MF3U/k18I2Xv7FzMwqzt1iZmZWcQ4uZmZWcQ4uZmZWcQ4uZmZWcQ4uZmZWcZ6KbJYzSeuAeQVFsyLi7LzaY1YJnopsljNJL0fE5nm3w6yS3C1mVockDZf0r9ar8NP9Sk5Mj1+W9CNJ90uaLWnbfFtr1p6Di1n+NpX094KfT0VEC/AV4BJJxwBbRcQvU/3NgPsjYm/gTrKrtM3qirvFzHLWWbeYpOnAvwHviIjFqWwdMDQi1kraGfhdRPyv2rXYrGvOXMzqlKQBwG7Aq8DWnVT1N0SrOw4uZvXr62Qr/X4auDjdagGyv9uj0+PPAHfn0DazTnkqsln+Ni1Y4RrgJuBi4ARg34h4SdJdwGlk4yuvAG+XdB/QAnyq1g0264rHXMz6GE9dtr7A3WJmZlZxzlzMzKzinLmYmVnFObiYmVnFObiYmVnFObiYmVnFObiYmVnF/X8+tKmW84d1jwAAAABJRU5ErkJggg==\n",
      "text/plain": [
       "<Figure size 432x288 with 1 Axes>"
      ]
     },
     "metadata": {
      "needs_background": "light"
     },
     "output_type": "display_data"
    }
   ],
   "source": [
    "plt.scatter(train_x,train_y,color='green')\n",
    "plt.plot(train_x,pred_y,color='blue')\n",
    "plt.title(\"Salary vs exp plot (Training data)\")\n",
    "plt.xlabel(\"Exp\")\n",
    "plt.ylabel(\"Salary\")\n",
    "plt.show()"
   ]
  },
  {
   "cell_type": "code",
   "execution_count": 12,
   "metadata": {},
   "outputs": [
    {
     "data": {
      "image/png": "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\n",
      "text/plain": [
       "<Figure size 432x288 with 1 Axes>"
      ]
     },
     "metadata": {
      "needs_background": "light"
     },
     "output_type": "display_data"
    }
   ],
   "source": [
    "plt.scatter(test_x,test_y,color='green')\n",
    "plt.plot(train_x,pred_y,color='blue')\n",
    "plt.title(\"Salary vs exp plot (Testing data)\")\n",
    "plt.xlabel(\"Exp\")\n",
    "plt.ylabel(\"Salary\")\n",
    "plt.show()"
   ]
  },
  {
   "cell_type": "code",
   "execution_count": 13,
   "metadata": {},
   "outputs": [
    {
     "name": "stdout",
     "output_type": "stream",
     "text": [
      "[[9360.26128619]]\n",
      "[26777.3913412]\n"
     ]
    }
   ],
   "source": [
    "#y=b1*x+b0\n",
    "print(lin.coef_)  #b1\n",
    "print(lin.intercept_)  #b0"
   ]
  },
  {
   "cell_type": "code",
   "execution_count": null,
   "metadata": {},
   "outputs": [],
   "source": []
  }
 ],
 "metadata": {
  "kernelspec": {
   "display_name": "Python 3",
   "language": "python",
   "name": "python3"
  },
  "language_info": {
   "codemirror_mode": {
    "name": "ipython",
    "version": 3
   },
   "file_extension": ".py",
   "mimetype": "text/x-python",
   "name": "python",
   "nbconvert_exporter": "python",
   "pygments_lexer": "ipython3",
   "version": "3.7.4"
  }
 },
 "nbformat": 4,
 "nbformat_minor": 2
}
